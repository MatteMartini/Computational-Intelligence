{
 "cells": [
  {
   "cell_type": "markdown",
   "metadata": {},
   "source": [
    "Copyright **`(c)`** 2023 Giovanni Squillero `<giovanni.squillero@polito.it>`  \n",
    "[`https://github.com/squillero/computational-intelligence`](https://github.com/squillero/computational-intelligence)  \n",
    "Free for personal or classroom use; see [`LICENSE.md`](https://github.com/squillero/computational-intelligence/blob/master/LICENSE.md) for details.  "
   ]
  },
  {
   "cell_type": "markdown",
   "metadata": {},
   "source": [
    "# LAB10\n",
    "\n",
    "Use reinforcement learning to devise a tic-tac-toe player.\n",
    "\n",
    "### Deadlines:\n",
    "\n",
    "* Submission: [Dies Natalis Solis Invicti](https://en.wikipedia.org/wiki/Sol_Invictus)\n",
    "* Reviews: [Befana](https://en.wikipedia.org/wiki/Befana)\n",
    "\n",
    "Notes:\n",
    "\n",
    "* Reviews will be assigned  on Monday, December 4\n",
    "* You need to commit in order to be selected as a reviewer (ie. better to commit an empty work than not to commit)"
   ]
  },
  {
   "cell_type": "code",
   "execution_count": 51,
   "metadata": {},
   "outputs": [],
   "source": [
    "from itertools import combinations\n",
    "from random import choice\n",
    "from copy import deepcopy\n",
    "from tqdm.auto import tqdm\n",
    "import numpy as np"
   ]
  },
  {
   "cell_type": "code",
   "execution_count": 52,
   "metadata": {},
   "outputs": [],
   "source": [
    "class Tic_Tac_Toe(object):\n",
    "    '''Class of the game.'''\n",
    "\n",
    "    def __init__(self):\n",
    "        self.board = np.zeros((3, 3))\n",
    "        self.MAGIC = np.array([[2, 7, 6], [9, 5, 1], [4, 3, 8]])\n",
    "        self.player=1 \n",
    "    \n",
    "    #check if the player wins after the last move\n",
    "    def win(self, player):\n",
    "        cells = self.MAGIC[self.board == player]\n",
    "        return any(sum(h) == 15 for h in combinations(cells, 3))\n",
    "    \n",
    "    def reward(self, player):\n",
    "        if self.win(player):\n",
    "            return 1\n",
    "        elif self.win(3 - player):\n",
    "            return -1\n",
    "        else:\n",
    "            return 0\n",
    "\n",
    "    def get_state(self):\n",
    "        return self.board\n",
    "    \n",
    "    #parameter action contains the coordinates of the board where to write the x or o\n",
    "    def make_move(self, action):\n",
    "        if self.board[action] == 0:\n",
    "            self.board[action] = self.player\n",
    "            if self.player == 1:\n",
    "                self.player = 2\n",
    "            else:\n",
    "                self.player = 1\n",
    "            return True\n",
    "        else:\n",
    "            return False\n",
    "    \n",
    "    #list of available actions after updating the state, need for the Bellman equation\n",
    "    def next_step_moves(self):\n",
    "        if self.win(1) or self.win(2):\n",
    "            return list()\n",
    "        r , c = np.where(self.board == 0)\n",
    "        return list(zip(r, c))\n",
    "\n",
    "    def end_game(self):\n",
    "        return len(self.next_step_moves()) == 0 or self.win(1) or self.win(2)\n",
    "    \n",
    "    def reset(self):\n",
    "        self.board = np.zeros((3, 3))\n",
    "        self.player=1\n"
   ]
  },
  {
   "cell_type": "code",
   "execution_count": 53,
   "metadata": {},
   "outputs": [],
   "source": [
    "class Q_learning:\n",
    "    def __init__(self, alpha, gamma, epsilon): #parameters of the Bellman Equation, epsilon is to balance exploration and exploitation\n",
    "        self.table = {}   #the table is implemented as a dictionary\n",
    "        self.epsilon = epsilon\n",
    "        self.gamma = gamma\n",
    "        self.alpha = alpha\n",
    "        \n",
    "    def get_epsilon(self):\n",
    "        return self.epsilon\n",
    "    \n",
    "    def set_epsilon(self, eps):\n",
    "        self.epsilon = eps\n",
    "    \n",
    "    #take the move according to epsilon\n",
    "    def choice_move(self, state, moves): \n",
    "        if np.random.uniform() < self.epsilon: \n",
    "            return moves[choice(range(len(moves)))]\n",
    "        else:\n",
    "            values = np.array([self.get_value(state, move) for move in moves]) #exploitation, you take the move with the max value in the q_table\n",
    "            max= np.max(values)\n",
    "            return moves[choice(np.where(values == max)[0])]\n",
    "    \n",
    "    def get_value(self, state, move):\n",
    "        if (state, move) not in self.table:\n",
    "            self.table[(state, move)] = 0\n",
    "        return self.table[(state, move)]\n",
    "    \n",
    "    #update the value in the table according with the Bellman equation\n",
    "    def update_value(self, state, move, reward, next_state, next_moves): \n",
    "        value = self.get_value(state, move) \n",
    "        next_q_values = np.array([self.get_value(next_state, next_action) for next_action in next_moves])\n",
    "        maximum = np.max(next_q_values) if len(next_q_values) > 0 else 0  # you take the move with the max value in the q_table for the next state of this player\n",
    "        self.table[(state, move)] = value + self.alpha * (reward + self.gamma * maximum - value)"
   ]
  },
  {
   "cell_type": "code",
   "execution_count": 54,
   "metadata": {},
   "outputs": [
    {
     "data": {
      "application/vnd.jupyter.widget-view+json": {
       "model_id": "2226ff5ec55d44e8add5917d3f105105",
       "version_major": 2,
       "version_minor": 0
      },
      "text/plain": [
       "  0%|          | 0/100000 [00:00<?, ?it/s]"
      ]
     },
     "metadata": {},
     "output_type": "display_data"
    }
   ],
   "source": [
    "Q1 = Q_learning(0.5, 0.9, 1)\n",
    "games = 100000\n",
    "gamma_epsilon=0.999\n",
    "min_eps=0.15\n",
    "game = Tic_Tac_Toe()\n",
    "\n",
    "for i in tqdm(range(games)):\n",
    "    if Q1.get_epsilon() > min_eps:  #minimum exploration\n",
    "       Q1.set_epsilon(Q1.get_epsilon() * gamma_epsilon)\n",
    "    game.reset()\n",
    "\n",
    "    while not game.end_game():\n",
    "        state = game.get_state().copy()\n",
    "        moves = game.next_step_moves() \n",
    "        move = Q1.choice_move(str(state), moves)\n",
    "        game.make_move(move)\n",
    "\n",
    "        if game.end_game():\n",
    "            next_state = game.get_state().copy()\n",
    "            next_moves = game.next_step_moves() \n",
    "            reward = game.reward(1)\n",
    "            Q1.update_value(str(state), move, reward, str(next_state), next_moves)\n",
    "            \n",
    "        else: \n",
    "            reward = game.reward(1) \n",
    "            enemy_moves = game.next_step_moves()\n",
    "            enemy_move = enemy_moves[np.random.choice(range(len(enemy_moves)))] #the other player is always randomic\n",
    "            game.make_move(enemy_move)\n",
    "\n",
    "            if game.end_game():\n",
    "                reward = game.reward(1)\n",
    "\n",
    "            next_state = game.get_state().copy()\n",
    "            next_moves = game.next_step_moves()\n",
    "            \n",
    "            Q1.update_value(str(state), move, reward, str(next_state), next_moves)"
   ]
  },
  {
   "cell_type": "code",
   "execution_count": 55,
   "metadata": {},
   "outputs": [
    {
     "name": "stdout",
     "output_type": "stream",
     "text": [
      "Playing as first:\n",
      " Number of Wins: 1929\n",
      " Number of Draws: 44\n",
      " Number of Loses: 27\n",
      " Percentage of Wins: 96.45% \n",
      "\n"
     ]
    }
   ],
   "source": [
    "wins, draws, loses = 0, 0, 0\n",
    "game = Tic_Tac_Toe()\n",
    "games=2000\n",
    "\n",
    "for i in range(games):\n",
    "    game.reset()\n",
    "    \n",
    "    while not game.end_game():\n",
    "        if game.player == 1:\n",
    "            moves = game.next_step_moves()\n",
    "            state = game.get_state()\n",
    "            move = Q1.choice_move(str(state), moves)\n",
    "            game.make_move(move)\n",
    "\n",
    "        else:\n",
    "            moves = game.next_step_moves()\n",
    "            state = game.get_state()\n",
    "            move = moves[choice(range(len(moves)))]\n",
    "            game.make_move(move)\n",
    "        \n",
    "    if game.win(1):\n",
    "        wins += 1\n",
    "    elif game.win(2):\n",
    "        loses += 1\n",
    "    else:\n",
    "        draws += 1\n",
    "\n",
    "print(f\"Playing as first:\\n Number of Wins: {wins}\\n Number of Draws: {draws}\\n Number of Loses: {loses}\\n Percentage of Wins: {wins/games *100}% \\n\")"
   ]
  }
 ],
 "metadata": {
  "kernelspec": {
   "display_name": "ci-fLJ3OwGs-py3.12",
   "language": "python",
   "name": "python3"
  },
  "language_info": {
   "codemirror_mode": {
    "name": "ipython",
    "version": 3
   },
   "file_extension": ".py",
   "mimetype": "text/x-python",
   "name": "python",
   "nbconvert_exporter": "python",
   "pygments_lexer": "ipython3",
   "version": "3.9.13"
  }
 },
 "nbformat": 4,
 "nbformat_minor": 2
}
