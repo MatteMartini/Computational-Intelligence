{
 "cells": [
  {
   "cell_type": "markdown",
   "metadata": {
    "pycharm": {
     "name": "#%% md\n"
    }
   },
   "source": [
    "Copyright **`(c)`** 2022 Giovanni Squillero `<squillero@polito.it>`  \n",
    "[`https://github.com/squillero/computational-intelligence`](https://github.com/squillero/computational-intelligence)  \n",
    "Free for personal or classroom use; see [`LICENSE.md`](https://github.com/squillero/computational-intelligence/blob/master/LICENSE.md) for details.  \n"
   ]
  },
  {
   "cell_type": "markdown",
   "metadata": {
    "pycharm": {
     "name": "#%%\n"
    }
   },
   "source": [
    "# Lab 2: ES\n",
    "\n",
    "## Task\n",
    "\n",
    "Write agents able to play [*Nim*](https://en.wikipedia.org/wiki/Nim), with an arbitrary number of rows and an upper bound $k$ on the number of objects that can be removed in a turn (a.k.a., *subtraction game*).\n",
    "\n",
    "The goal of the game is to **avoid** taking the last object.\n",
    "\n",
    "* Task2.1: An agent using fixed rules based on *nim-sum* (i.e., an *expert system*)\n",
    "* Task2.2: An agent using evolved rules using ES\n",
    "\n",
    "## Instructions\n",
    "\n",
    "* Create the directory `lab2` inside the course repo \n",
    "* Put a `README.md` and your solution (all the files, code and auxiliary data if needed)\n",
    "\n",
    "## Notes\n",
    "\n",
    "* Working in group is not only allowed, but recommended (see: [Ubuntu](https://en.wikipedia.org/wiki/Ubuntu_philosophy) and [Cooperative Learning](https://files.eric.ed.gov/fulltext/EJ1096789.pdf)). Collaborations must be explicitly declared in the `README.md`.\n",
    "* [Yanking](https://www.emacswiki.org/emacs/KillingAndYanking) from the internet is allowed, but sources must be explicitly declared in the `README.md`.\n",
    "\n"
   ]
  },
  {
   "cell_type": "code",
   "execution_count": 1,
   "metadata": {},
   "outputs": [],
   "source": [
    "import logging\n",
    "import sys\n",
    "from pprint import pprint, pformat\n",
    "from collections import namedtuple\n",
    "import random\n",
    "from copy import deepcopy\n",
    "import numpy as np\n",
    "from tqdm import tqdm\n"
   ]
  },
  {
   "cell_type": "markdown",
   "metadata": {},
   "source": [
    "## The *Nim* and *Nimply* classes"
   ]
  },
  {
   "cell_type": "code",
   "execution_count": 2,
   "metadata": {},
   "outputs": [],
   "source": [
    "Nimply = namedtuple(\"Nimply\", \"row, num_objects\")\n"
   ]
  },
  {
   "cell_type": "code",
   "execution_count": 3,
   "metadata": {},
   "outputs": [],
   "source": [
    "class Nim:\n",
    "    def __init__(self, num_rows: int, k: int = None) -> None: \n",
    "        self._rows = [i * 2 + 1 for i in range(num_rows)]\n",
    "        self._k = k\n",
    "\n",
    "    def __bool__(self): \n",
    "        return sum(self._rows) > 0\n",
    "\n",
    "    def __str__(self): \n",
    "        return \"<\" + \" \".join(str(_) for _ in self._rows) + \">\"\n",
    "\n",
    "    @property \n",
    "    def rows(self) -> tuple: \n",
    "        return tuple(self._rows)\n",
    "\n",
    "    def nimming(self, ply: Nimply) -> None:\n",
    "        row, num_objects = ply\n",
    "        assert self._rows[row] >= num_objects\n",
    "        assert self._k is None or num_objects <= self._k\n",
    "        self._rows[row] -= num_objects\n"
   ]
  },
  {
   "cell_type": "markdown",
   "metadata": {},
   "source": [
    "## Sample (and silly) startegies "
   ]
  },
  {
   "cell_type": "code",
   "execution_count": 4,
   "metadata": {},
   "outputs": [],
   "source": [
    "def pure_random(state: Nim, genomes = None) -> Nimply:\n",
    "    \"\"\"A completely random move\"\"\"\n",
    "    row = random.choice([r for r, c in enumerate(state.rows) if c > 0])\n",
    "    num_objects = random.randint(1, state.rows[row])\n",
    "    return Nimply(row, num_objects)\n"
   ]
  },
  {
   "cell_type": "code",
   "execution_count": 5,
   "metadata": {},
   "outputs": [],
   "source": [
    "def gabriele(state: Nim, genomes = None) -> Nimply:\n",
    "    \"\"\"Pick always the maximum possible number of the lowest row\"\"\"\n",
    "    possible_moves = [(r, o) for r, c in enumerate(state.rows) for o in range(1, c + 1)]\n",
    "    return Nimply(*max(possible_moves, key=lambda m: (-m[0], m[1])))\n"
   ]
  },
  {
   "cell_type": "code",
   "execution_count": 6,
   "metadata": {},
   "outputs": [],
   "source": [
    "\n",
    "def nim_sum(state: Nim) -> int: \n",
    "    tmp = np.array([tuple(int(x) for x in f\"{c:032b}\") for c in state.rows])\n",
    "    xor = tmp.sum(axis=0) % 2\n",
    "    return int(\"\".join(str(_) for _ in xor), base=2)\n",
    "\n",
    "\n",
    "def analize(raw: Nim) -> dict: \n",
    "    cooked = dict()\n",
    "    cooked[\"possible_moves\"] = dict()\n",
    "    for ply in (Nimply(r, o) for r, c in enumerate(raw.rows) for o in range(1, c + 1)):\n",
    "        tmp = deepcopy(raw)\n",
    "        tmp.nimming(ply)\n",
    "        cooked[\"possible_moves\"][ply] = nim_sum(tmp)\n",
    "    return cooked\n",
    "\n",
    "\n",
    "def optimal(state: Nim, genomes = None) -> Nimply: \n",
    "    analysis = analize(state)\n",
    "    logging.debug(f\"analysis:\\n{pformat(analysis)}\")\n",
    "    spicy_moves = [ply for ply, ns in analysis[\"possible_moves\"].items() if ns != 0]\n",
    "    if not spicy_moves:\n",
    "        spicy_moves = list(analysis[\"possible_moves\"].keys())\n",
    "    ply = random.choice(spicy_moves)\n",
    "    return ply"
   ]
  },
  {
   "cell_type": "markdown",
   "metadata": {},
   "source": [
    "## Task 2.1\n",
    "We always play a move in order to have a nim-sum value of 0. \n",
    "\n",
    "This strategy \"optimalgabriele\" is stronger than the \"optimal\" because in the last step, when there is only a row with some matches, it tries to leave only one match to the opponent (and in this way winning). Instead with the \"optimal\" strategy the player makes a move only to go to another safe configuration, without thinking about closing the game at the end.\n",
    "\n",
    "The following function implements this winning strategy"
   ]
  },
  {
   "cell_type": "code",
   "execution_count": 7,
   "metadata": {},
   "outputs": [],
   "source": [
    "def optimal_gabriele(state: Nim, genomes = None) -> Nimply: \n",
    "    analysis = analize(state)\n",
    "    logging.debug(f\"analysis:\\n{pformat(analysis)}\")\n",
    "    spicy_moves = [ply for ply, ns in analysis[\"possible_moves\"].items() if ns != 0]\n",
    "    if not spicy_moves:\n",
    "        spicy_moves = list(analysis[\"possible_moves\"].keys())\n",
    "    return Nimply(*max(spicy_moves, key=lambda m: (-m[0], m[1])))"
   ]
  },
  {
   "cell_type": "markdown",
   "metadata": {},
   "source": [
    "## Oversimplified match"
   ]
  },
  {
   "cell_type": "code",
   "execution_count": 8,
   "metadata": {},
   "outputs": [
    {
     "name": "stderr",
     "output_type": "stream",
     "text": [
      "INFO:root:init : <1 3 5 7 9>\n",
      "INFO:root:ply: player 0 plays Nimply(row=1, num_objects=2)\n",
      "INFO:root:status: <1 1 5 7 9>\n",
      "INFO:root:ply: player 1 plays Nimply(row=0, num_objects=1)\n",
      "INFO:root:status: <0 1 5 7 9>\n",
      "INFO:root:ply: player 0 plays Nimply(row=2, num_objects=1)\n",
      "INFO:root:status: <0 1 4 7 9>\n",
      "INFO:root:ply: player 1 plays Nimply(row=1, num_objects=1)\n",
      "INFO:root:status: <0 0 4 7 9>\n",
      "INFO:root:ply: player 0 plays Nimply(row=4, num_objects=9)\n",
      "INFO:root:status: <0 0 4 7 0>\n",
      "INFO:root:ply: player 1 plays Nimply(row=2, num_objects=4)\n",
      "INFO:root:status: <0 0 0 7 0>\n",
      "INFO:root:ply: player 0 plays Nimply(row=3, num_objects=4)\n",
      "INFO:root:status: <0 0 0 3 0>\n",
      "INFO:root:ply: player 1 plays Nimply(row=3, num_objects=2)\n",
      "INFO:root:status: <0 0 0 1 0>\n",
      "INFO:root:ply: player 0 plays Nimply(row=3, num_objects=1)\n",
      "INFO:root:status: <0 0 0 0 0>\n",
      "INFO:root:status: Player 1 won!\n"
     ]
    }
   ],
   "source": [
    "logging.getLogger().setLevel(logging.INFO)\n",
    "\n",
    "strategy = (pure_random, optimal_gabriele)\n",
    "\n",
    "nim = Nim(5)\n",
    "logging.info(f\"init : {nim}\")\n",
    "player = 0\n",
    "while nim:\n",
    "    ply = strategy[player](nim)\n",
    "    logging.info(f\"ply: player {player} plays {ply}\")\n",
    "    nim.nimming(ply)\n",
    "    logging.info(f\"status: {nim}\")\n",
    "    player = 1 - player\n",
    "logging.info(f\"status: Player {player} won!\")"
   ]
  },
  {
   "cell_type": "markdown",
   "metadata": {},
   "source": [
    "## Several matches to collect results"
   ]
  },
  {
   "cell_type": "code",
   "execution_count": 9,
   "metadata": {},
   "outputs": [
    {
     "name": "stdout",
     "output_type": "stream",
     "text": [
      "player_0 won:599  , player_1 won: 1401 in 2000 iterations\n",
      "player_0 win_rate: 29.95%  , player_1 win_rate: 70.05% \n"
     ]
    }
   ],
   "source": [
    "counter=0\n",
    "NUM_GAMES=2000\n",
    "player0_win=0\n",
    "while counter<NUM_GAMES:\n",
    "    strategy = (optimal, optimal_gabriele)\n",
    "    nim = Nim(5)\n",
    "    player = 0\n",
    "    while nim:\n",
    "        ply = strategy[player](nim)\n",
    "        nim.nimming(ply)\n",
    "        player = 1 - player\n",
    "    if player==0:\n",
    "        player0_win+=1\n",
    "    counter+=1\n",
    "\n",
    "    \n",
    "print(f\"player_0 won:{player0_win}  , player_1 won: {NUM_GAMES-player0_win} in {counter} iterations\" )\n",
    "print(f\"player_0 win_rate: {round((player0_win/counter)*100,2)}%  , player_1 win_rate: {round(((NUM_GAMES-player0_win)/counter)*100,2)}% \" )\n"
   ]
  },
  {
   "cell_type": "markdown",
   "metadata": {},
   "source": [
    "## Task 2.2\n",
    "Implementation of ES strategies"
   ]
  },
  {
   "cell_type": "code",
   "execution_count": 10,
   "metadata": {},
   "outputs": [],
   "source": [
    "def find_genomes():\n",
    "    pre = np.random.normal(loc=0, scale=1, size=2) \n",
    "    val = 0.5 * (1 + np.tanh(pre / np.sqrt(2)))\n",
    "    print(val)\n",
    "    return val\n",
    "\n",
    "def choose_element(vector, alpha):\n",
    "    alpha = max(0, min(alpha, 1)) #Ensure that alpha is between 0 and 1\n",
    "    index = int(alpha * (len(vector)))# Calculate the index based on the value of alpha\n",
    "    if index >= len(vector)-1:\n",
    "        index = len(vector) - 1\n",
    "    if index < 0:\n",
    "        index = 0\n",
    "    chosen_element = vector[index]# Return the corresponding element\n",
    "    return chosen_element\n"
   ]
  },
  {
   "cell_type": "code",
   "execution_count": 11,
   "metadata": {},
   "outputs": [
    {
     "name": "stdout",
     "output_type": "stream",
     "text": [
      "[0.21480928 0.76110614]\n"
     ]
    }
   ],
   "source": [
    "nim = Nim(5)\n",
    "genomes = find_genomes()\n",
    "\n",
    "def adaptive(state: Nim, genomes) -> Nimply:\n",
    "    \"\"\"Is it a random move?\"\"\"\n",
    "    indices = [i for i, elemento in enumerate(state.rows) if elemento != 0] \n",
    "    row = choose_element(indices, genomes[0]) \n",
    "    closest_genome = genomes[0] \n",
    "    while state.rows[row] == 0:\n",
    "        closest_genome += random.uniform(-0.25, 0.25)\n",
    "        row = choose_element(indices, closest_genome)\n",
    "    if (state.rows[row] == 1):\n",
    "        num_objects = 1\n",
    "    else:\n",
    "        num_objects = choose_element(range(1, state.rows[row]), genomes[1])\n",
    "    return Nimply(row, num_objects) "
   ]
  },
  {
   "cell_type": "code",
   "execution_count": 12,
   "metadata": {},
   "outputs": [],
   "source": [
    "def play_game(strat, genomes):\n",
    "\n",
    "    strategy = (strat, pure_random)\n",
    "\n",
    "    nim = Nim(3)\n",
    "    player = 0\n",
    "    while nim:\n",
    "        ply = strategy[player](nim, genomes)\n",
    "        nim.nimming(ply)\n",
    "        player = 1 - player\n",
    "    return player\n",
    "\n",
    "def fitness(strategy, genomes, num_games=100):\n",
    "    wins = 0\n",
    "    for _ in range(num_games):\n",
    "        if play_game(strategy, genomes):\n",
    "            wins += 1\n",
    "    return (num_games - wins) / num_games"
   ]
  },
  {
   "cell_type": "code",
   "execution_count": 13,
   "metadata": {},
   "outputs": [],
   "source": [
    "def mutation(genome, mu=0, sigma=np.array([0.1, 0.1])):\n",
    "    gaussian = np.array([np.random.normal(mu, sigma[0], 1), np.random.normal(mu, sigma[1], 1)])\n",
    "    child = np.array([0,0])\n",
    "\n",
    "    child[0] = genome[0] + gaussian[0][0]\n",
    "    child[1] = genome[1] + gaussian[1][0]\n",
    "\n",
    "    if child[0] >= 1:\n",
    "        child[0] = 0.999\n",
    "    elif child[0] < 0:\n",
    "        child[0] = 0\n",
    "\n",
    "    if child[1] >= 1:\n",
    "        child[1] = 0.999\n",
    "    elif child[1] < 0:\n",
    "        child[1] = 0\n",
    "    \n",
    "    return child"
   ]
  },
  {
   "cell_type": "markdown",
   "metadata": {},
   "source": [
    "## (1 + $\\lambda$)-ES"
   ]
  },
  {
   "cell_type": "code",
   "execution_count": 14,
   "metadata": {},
   "outputs": [],
   "source": [
    "def develop(generations=100, population=100, mu=0, sigma=0.1):\n",
    "    genomes = find_genomes()\n",
    "    parent_gen = (genomes, fitness(adaptive, genomes))\n",
    "\n",
    "    for _ in tqdm(range(generations), file=sys.stdout):\n",
    "        best_gen = ({\"row\": 0, \"elements\": 0}, 0)\n",
    "        for i in range(population):\n",
    "            \n",
    "            child_gen = mutation(parent_gen[0], mu, np.array([sigma, sigma]))\n",
    "            evaluation = fitness(adaptive, child_gen)\n",
    "            if evaluation > best_gen[1] or i == 0:\n",
    "                best_gen = (child_gen, evaluation)\n",
    "\n",
    "        if best_gen[1] > parent_gen[1]:\n",
    "            parent_gen = best_gen\n",
    "            print(parent_gen)"
   ]
  },
  {
   "cell_type": "code",
   "execution_count": 15,
   "metadata": {},
   "outputs": [
    {
     "name": "stdout",
     "output_type": "stream",
     "text": [
      "[0.83005921 0.04646298]\n",
      "  0%|          | 0/100 [00:00<?, ?it/s]"
     ]
    },
    {
     "name": "stdout",
     "output_type": "stream",
     "text": [
      "(array([0, 0]), 0.73)\n",
      "  3%|▎         | 3/100 [00:02<01:03,  1.52it/s](array([0, 0]), 0.74)\n",
      "  7%|▋         | 7/100 [00:04<00:57,  1.61it/s](array([0, 0]), 0.75)\n",
      " 14%|█▍        | 14/100 [00:08<00:46,  1.84it/s](array([0, 0]), 0.77)\n",
      " 27%|██▋       | 27/100 [00:16<00:45,  1.62it/s](array([0, 0]), 0.78)\n",
      " 42%|████▏     | 42/100 [00:26<00:36,  1.60it/s](array([0, 0]), 0.79)\n",
      "100%|██████████| 100/100 [00:46<00:00,  2.16it/s]\n"
     ]
    }
   ],
   "source": [
    "develop(generations=100, population=100, mu=0.1, sigma=0.2) "
   ]
  },
  {
   "cell_type": "markdown",
   "metadata": {},
   "source": [
    "## (1,$\\lambda$)-ES"
   ]
  },
  {
   "cell_type": "code",
   "execution_count": 16,
   "metadata": {},
   "outputs": [],
   "source": [
    "def develop(generations=100, population=100, mu=0, sigma=0.1):\n",
    "    genomes = find_genomes()\n",
    "    parent_gen = (genomes, fitness(adaptive, genomes))\n",
    "\n",
    "    for _ in tqdm(range(generations), file=sys.stdout):\n",
    "        best_gen = ({\"row\": 0, \"elements\": 0}, 0)\n",
    "        for i in range(population):\n",
    "            \n",
    "            child_gen = mutation(parent_gen[0], mu, np.array([sigma, sigma]))\n",
    "            evaluation = fitness(adaptive, child_gen)\n",
    "            if evaluation > best_gen[1] or i == 0:\n",
    "                best_gen = (child_gen, evaluation)\n",
    "\n",
    "        parent_gen = best_gen\n",
    "        print(parent_gen)"
   ]
  },
  {
   "cell_type": "code",
   "execution_count": 17,
   "metadata": {},
   "outputs": [
    {
     "name": "stdout",
     "output_type": "stream",
     "text": [
      "[0.2234094  0.54099761]\n",
      "  0%|          | 0/100 [00:00<?, ?it/s](array([0, 0]), 0.72)\n",
      "  1%|          | 1/100 [00:00<00:34,  2.83it/s](array([0, 0]), 0.74)\n",
      "  2%|▏         | 2/100 [00:00<00:27,  3.50it/s](array([0, 0]), 0.74)\n",
      "  3%|▎         | 3/100 [00:00<00:24,  3.92it/s](array([0, 0]), 0.72)\n",
      "  4%|▍         | 4/100 [00:01<00:23,  4.14it/s](array([0, 0]), 0.7)\n",
      "  5%|▌         | 5/100 [00:01<00:23,  4.09it/s](array([0, 0]), 0.73)\n",
      "  6%|▌         | 6/100 [00:01<00:24,  3.85it/s](array([0, 0]), 0.7)\n",
      "  7%|▋         | 7/100 [00:01<00:25,  3.58it/s](array([0, 0]), 0.74)\n",
      "  8%|▊         | 8/100 [00:02<00:26,  3.43it/s](array([0, 0]), 0.74)\n",
      "  9%|▉         | 9/100 [00:02<00:27,  3.31it/s](array([0, 0]), 0.72)\n",
      " 10%|█         | 10/100 [00:02<00:27,  3.31it/s](array([0, 0]), 0.73)\n",
      " 11%|█         | 11/100 [00:03<00:25,  3.46it/s](array([0, 0]), 0.72)\n",
      " 12%|█▏        | 12/100 [00:03<00:24,  3.65it/s](array([0, 0]), 0.72)\n",
      " 13%|█▎        | 13/100 [00:03<00:22,  3.82it/s](array([0, 0]), 0.74)\n",
      " 14%|█▍        | 14/100 [00:03<00:21,  3.96it/s](array([0, 0]), 0.75)\n",
      " 15%|█▌        | 15/100 [00:04<00:20,  4.09it/s](array([0, 0]), 0.74)\n",
      " 16%|█▌        | 16/100 [00:04<00:20,  4.01it/s](array([0, 0]), 0.74)\n",
      " 17%|█▋        | 17/100 [00:04<00:21,  3.83it/s](array([0, 0]), 0.75)\n",
      " 18%|█▊        | 18/100 [00:04<00:22,  3.68it/s](array([0, 0]), 0.73)\n",
      " 19%|█▉        | 19/100 [00:05<00:22,  3.65it/s](array([0, 0]), 0.72)\n",
      " 20%|██        | 20/100 [00:05<00:21,  3.80it/s](array([0, 0]), 0.74)\n",
      " 21%|██        | 21/100 [00:05<00:20,  3.87it/s](array([0, 0]), 0.75)\n",
      " 22%|██▏       | 22/100 [00:05<00:20,  3.82it/s](array([0, 0]), 0.78)\n",
      " 23%|██▎       | 23/100 [00:06<00:20,  3.83it/s](array([0, 0]), 0.72)\n",
      " 24%|██▍       | 24/100 [00:06<00:19,  3.93it/s](array([0, 0]), 0.76)\n",
      " 25%|██▌       | 25/100 [00:06<00:18,  4.06it/s](array([0, 0]), 0.75)\n",
      " 26%|██▌       | 26/100 [00:06<00:18,  3.95it/s](array([0, 0]), 0.73)\n",
      " 27%|██▋       | 27/100 [00:07<00:18,  3.88it/s](array([0, 0]), 0.73)\n",
      " 28%|██▊       | 28/100 [00:07<00:19,  3.61it/s](array([0, 0]), 0.72)\n",
      " 29%|██▉       | 29/100 [00:07<00:21,  3.35it/s](array([0, 0]), 0.71)\n",
      " 30%|███       | 30/100 [00:08<00:20,  3.38it/s](array([0, 0]), 0.71)\n",
      " 31%|███       | 31/100 [00:08<00:19,  3.57it/s](array([0, 0]), 0.72)\n",
      " 32%|███▏      | 32/100 [00:08<00:18,  3.78it/s](array([0, 0]), 0.71)\n",
      " 33%|███▎      | 33/100 [00:08<00:18,  3.59it/s](array([0, 0]), 0.73)\n",
      " 34%|███▍      | 34/100 [00:09<00:17,  3.84it/s](array([0, 0]), 0.72)\n",
      " 35%|███▌      | 35/100 [00:09<00:16,  3.95it/s](array([0, 0]), 0.74)\n",
      " 36%|███▌      | 36/100 [00:09<00:15,  4.07it/s](array([0, 0]), 0.74)\n",
      " 37%|███▋      | 37/100 [00:09<00:16,  3.86it/s](array([0, 0]), 0.75)\n",
      " 38%|███▊      | 38/100 [00:10<00:17,  3.54it/s](array([0, 0]), 0.74)\n",
      " 39%|███▉      | 39/100 [00:10<00:17,  3.44it/s](array([0, 0]), 0.72)\n",
      " 40%|████      | 40/100 [00:10<00:18,  3.22it/s](array([0, 0]), 0.72)\n",
      " 41%|████      | 41/100 [00:11<00:19,  2.98it/s](array([0, 0]), 0.73)\n",
      " 42%|████▏     | 42/100 [00:11<00:20,  2.89it/s](array([0, 0]), 0.71)\n",
      " 43%|████▎     | 43/100 [00:11<00:17,  3.18it/s](array([0, 0]), 0.74)\n",
      " 44%|████▍     | 44/100 [00:12<00:16,  3.36it/s](array([0, 0]), 0.75)\n",
      " 45%|████▌     | 45/100 [00:12<00:15,  3.56it/s](array([0, 0]), 0.74)\n",
      " 46%|████▌     | 46/100 [00:12<00:15,  3.48it/s](array([0, 0]), 0.72)\n",
      " 47%|████▋     | 47/100 [00:12<00:14,  3.68it/s](array([0, 0]), 0.76)\n",
      " 48%|████▊     | 48/100 [00:13<00:14,  3.67it/s](array([0, 0]), 0.75)\n",
      " 49%|████▉     | 49/100 [00:13<00:13,  3.75it/s](array([0, 0]), 0.73)\n",
      " 50%|█████     | 50/100 [00:13<00:12,  3.88it/s](array([0, 0]), 0.73)\n",
      " 51%|█████     | 51/100 [00:14<00:13,  3.65it/s](array([0, 0]), 0.72)\n",
      " 52%|█████▏    | 52/100 [00:14<00:14,  3.31it/s](array([0, 0]), 0.76)\n",
      " 53%|█████▎    | 53/100 [00:14<00:16,  2.91it/s](array([0, 0]), 0.73)\n",
      " 54%|█████▍    | 54/100 [00:15<00:16,  2.81it/s](array([0, 0]), 0.75)\n",
      " 55%|█████▌    | 55/100 [00:15<00:16,  2.76it/s](array([0, 0]), 0.78)\n",
      " 56%|█████▌    | 56/100 [00:15<00:15,  2.85it/s](array([0, 0]), 0.71)\n",
      " 57%|█████▋    | 57/100 [00:16<00:15,  2.86it/s](array([0, 0]), 0.75)\n",
      " 58%|█████▊    | 58/100 [00:16<00:14,  2.95it/s](array([0, 0]), 0.75)\n",
      " 59%|█████▉    | 59/100 [00:16<00:13,  3.10it/s](array([0, 0]), 0.73)\n",
      " 60%|██████    | 60/100 [00:17<00:12,  3.31it/s](array([0, 0]), 0.72)\n",
      " 61%|██████    | 61/100 [00:17<00:10,  3.55it/s](array([0, 0]), 0.73)\n",
      " 62%|██████▏   | 62/100 [00:17<00:10,  3.71it/s](array([0, 0]), 0.7)\n",
      " 63%|██████▎   | 63/100 [00:17<00:09,  3.84it/s](array([0, 0]), 0.73)\n",
      " 64%|██████▍   | 64/100 [00:18<00:09,  3.90it/s](array([0, 0]), 0.71)\n",
      " 65%|██████▌   | 65/100 [00:18<00:08,  3.91it/s](array([0, 0]), 0.74)\n",
      " 66%|██████▌   | 66/100 [00:18<00:09,  3.45it/s](array([0, 0]), 0.73)\n",
      " 67%|██████▋   | 67/100 [00:19<00:11,  2.86it/s](array([0, 0]), 0.8)\n",
      " 68%|██████▊   | 68/100 [00:19<00:12,  2.62it/s](array([0, 0]), 0.71)\n",
      " 69%|██████▉   | 69/100 [00:20<00:11,  2.59it/s](array([0, 0]), 0.75)\n",
      " 70%|███████   | 70/100 [00:20<00:10,  2.78it/s](array([0, 0]), 0.71)\n",
      " 71%|███████   | 71/100 [00:20<00:10,  2.67it/s](array([0, 0]), 0.73)\n",
      " 72%|███████▏  | 72/100 [00:21<00:12,  2.15it/s](array([0, 0]), 0.73)\n",
      " 73%|███████▎  | 73/100 [00:21<00:13,  2.03it/s](array([0, 0]), 0.71)\n",
      " 74%|███████▍  | 74/100 [00:22<00:12,  2.03it/s](array([0, 0]), 0.8)\n",
      " 75%|███████▌  | 75/100 [00:22<00:11,  2.26it/s](array([0, 0]), 0.7)\n",
      " 76%|███████▌  | 76/100 [00:23<00:09,  2.46it/s](array([0, 0]), 0.76)\n",
      " 77%|███████▋  | 77/100 [00:23<00:08,  2.71it/s](array([0, 0]), 0.72)\n",
      " 78%|███████▊  | 78/100 [00:23<00:07,  2.97it/s](array([0, 0]), 0.76)\n",
      " 79%|███████▉  | 79/100 [00:23<00:06,  3.21it/s](array([0, 0]), 0.72)\n",
      " 80%|████████  | 80/100 [00:24<00:05,  3.38it/s](array([0, 0]), 0.73)\n",
      " 81%|████████  | 81/100 [00:24<00:05,  3.46it/s](array([0, 0]), 0.74)\n",
      " 82%|████████▏ | 82/100 [00:24<00:05,  3.57it/s](array([0, 0]), 0.73)\n",
      " 83%|████████▎ | 83/100 [00:24<00:04,  3.66it/s](array([0, 0]), 0.75)\n",
      " 84%|████████▍ | 84/100 [00:25<00:04,  3.64it/s](array([0, 0]), 0.75)\n",
      " 85%|████████▌ | 85/100 [00:25<00:05,  2.96it/s](array([0, 0]), 0.72)\n",
      " 86%|████████▌ | 86/100 [00:26<00:06,  2.24it/s](array([0, 0]), 0.72)\n",
      " 87%|████████▋ | 87/100 [00:27<00:07,  1.84it/s](array([0, 0]), 0.74)\n",
      " 88%|████████▊ | 88/100 [00:27<00:06,  1.82it/s](array([0, 0]), 0.73)\n",
      " 89%|████████▉ | 89/100 [00:28<00:06,  1.69it/s](array([0, 0]), 0.72)\n",
      " 90%|█████████ | 90/100 [00:29<00:06,  1.64it/s](array([0, 0]), 0.76)\n",
      " 91%|█████████ | 91/100 [00:29<00:05,  1.63it/s](array([0, 0]), 0.78)\n",
      " 92%|█████████▏| 92/100 [00:30<00:04,  1.72it/s](array([0, 0]), 0.73)\n",
      " 93%|█████████▎| 93/100 [00:30<00:04,  1.72it/s](array([0, 0]), 0.72)\n",
      " 94%|█████████▍| 94/100 [00:31<00:03,  1.67it/s](array([0, 0]), 0.75)\n",
      " 95%|█████████▌| 95/100 [00:32<00:02,  1.68it/s](array([0, 0]), 0.74)\n",
      " 96%|█████████▌| 96/100 [00:32<00:02,  1.59it/s](array([0, 0]), 0.74)\n",
      " 97%|█████████▋| 97/100 [00:33<00:01,  1.57it/s](array([0, 0]), 0.72)\n",
      " 98%|█████████▊| 98/100 [00:34<00:01,  1.56it/s](array([0, 0]), 0.75)\n",
      " 99%|█████████▉| 99/100 [00:34<00:00,  1.54it/s](array([0, 0]), 0.75)\n",
      "100%|██████████| 100/100 [00:35<00:00,  2.83it/s]\n"
     ]
    }
   ],
   "source": [
    "develop(generations=100, population=100, mu=0.1, sigma=0.2)"
   ]
  }
 ],
 "metadata": {
  "kernelspec": {
   "display_name": "Python 3.10.7 ('ci22-dPIXJ0_o-py3.10')",
   "language": "python",
   "name": "python3"
  },
  "language_info": {
   "codemirror_mode": {
    "name": "ipython",
    "version": 3
   },
   "file_extension": ".py",
   "mimetype": "text/x-python",
   "name": "python",
   "nbconvert_exporter": "python",
   "pygments_lexer": "ipython3",
   "version": "3.9.13"
  },
  "vscode": {
   "interpreter": {
    "hash": "10197e8e2f2aa67e2c349105091c77f4cd384fce4877865f002d9ec653f96bc0"
   }
  }
 },
 "nbformat": 4,
 "nbformat_minor": 2
}
